{
 "cells": [
  {
   "cell_type": "markdown",
   "metadata": {},
   "source": [
    "# Projeto II -  Futuro dos Dados e Aplicação de Big Data\n",
    "\n",
    "Júlio Cézar de Souza Barbosa (1904612)\n",
    "\n",
    "Rickson das Neves Tavares (2072486)"
   ]
  },
  {
   "cell_type": "markdown",
   "metadata": {},
   "source": [
    "# Avaliação 1 - Introdução e Fundamentação Teórica (Primeira parte): Descrição do Problema"
   ]
  },
  {
   "cell_type": "markdown",
   "metadata": {},
   "source": [
    "### Prevendo Ações com Machine Learning"
   ]
  },
  {
   "cell_type": "markdown",
   "metadata": {},
   "source": [
    "O mercado de ações é algo bem complexo, pois, existem diversos fatores que influenciam no preço dos ativos. Fatores estes que sao difíceis de prever, ou ainda, que estão fora do controle até mesmo de profissionais da área. Dessa forma utilizaremos Machine Learning para nos ajudar a prever ações da bolsa de valores."
   ]
  },
  {
   "cell_type": "markdown",
   "metadata": {},
   "source": [
    "### Objetivo"
   ]
  },
  {
   "cell_type": "markdown",
   "metadata": {},
   "source": [
    "Esse projeto tem como objetivo aplicar algoritmos de machine learning para prever ações da bolsa de valores."
   ]
  },
  {
   "cell_type": "markdown",
   "metadata": {},
   "source": [
    "### Especificação Técnica"
   ]
  },
  {
   "cell_type": "markdown",
   "metadata": {},
   "source": [
    "Para um melhor resultado do modelo foi realizado um ETL de dados históricos extraídos do site da IBOVESPA do ano de 2020."
   ]
  },
  {
   "cell_type": "markdown",
   "metadata": {},
   "source": [
    "# Avaliação 2 - Metodologia, Resultados e Discussão (Segunda parte): Preparação dos Dados"
   ]
  },
  {
   "cell_type": "markdown",
   "metadata": {},
   "source": [
    "### Realizando o ETL dos dados históricos"
   ]
  },
  {
   "cell_type": "code",
   "execution_count": 3,
   "metadata": {
    "id": "ZrzjtCZZlBik"
   },
   "outputs": [],
   "source": [
    "#ETL dos dados IBOVESPA\n",
    "import pandas as pd"
   ]
  },
  {
   "cell_type": "code",
   "execution_count": null,
   "metadata": {
    "colab": {
     "base_uri": "https://localhost:8080/",
     "height": 571
    },
    "id": "mwG456talOW2",
    "outputId": "dde8c38a-7620-4d32-b572-02d1c95a22bd"
   },
   "outputs": [],
   "source": [
    "colspecs = [(2,10),\n",
    "             (10,12),\n",
    "             (12,24),\n",
    "             (27,39),\n",
    "             (56,69),\n",
    "             (69,82),\n",
    "             (82,95),\n",
    "             (108,121),\n",
    "             (152,170),\n",
    "             (170,188)\n",
    "]\n",
    "\n",
    "names = ['data_pregao', 'codbi', 'sigla_acao', 'nome_acao', 'preco_abertura', 'preco_maximo', 'preco_minimo', 'preco_fechamento', 'qtd_negocios', 'volume_negocios']\n",
    "\n",
    "dados = pd.read_fwf('COTAHIST_A2020.txt', colspecs = colspecs, names = names, skiprows = 1)\n",
    "\n",
    "dados"
   ]
  },
  {
   "cell_type": "code",
   "execution_count": null,
   "metadata": {
    "colab": {
     "base_uri": "https://localhost:8080/",
     "height": 478
    },
    "id": "fy3xb5d_lOLs",
    "outputId": "65318588-5b71-4ba3-a852-ce6b48629bfa"
   },
   "outputs": [],
   "source": [
    "#Filtrando ações padrões\n",
    "dados = dados[dados['codbi']== 2]\n",
    "dados = dados.drop(['codbi'], 1)\n",
    "dados"
   ]
  },
  {
   "cell_type": "code",
   "execution_count": null,
   "metadata": {
    "colab": {
     "base_uri": "https://localhost:8080/",
     "height": 478
    },
    "id": "zH83ltKrT7hz",
    "outputId": "35f5cc23-5580-4fdf-801c-f5f0e4f128f0"
   },
   "outputs": [],
   "source": [
    "#Ajustando data\n",
    "dados['data_pregao'] = pd.to_datetime(dados['data_pregao'], format = '%Y%m%d')\n",
    "dados"
   ]
  },
  {
   "cell_type": "code",
   "execution_count": null,
   "metadata": {
    "colab": {
     "base_uri": "https://localhost:8080/",
     "height": 478
    },
    "id": "4YCY-WLRlN9z",
    "outputId": "ebce2f42-e6ad-4b27-e89c-36a3d2edc643"
   },
   "outputs": [],
   "source": [
    "#Ajuste dos campos numéricos\n",
    "dados['preco_abertura'] = (dados['preco_abertura']/100)\n",
    "dados['preco_maximo'] = (dados['preco_maximo']/100)\n",
    "dados['preco_minimo'] = (dados['preco_minimo']/100)                     \n",
    "dados['preco_fechamento'] = (dados['preco_fechamento']/100)\n",
    "dados"
   ]
  },
  {
   "cell_type": "code",
   "execution_count": null,
   "metadata": {
    "colab": {
     "base_uri": "https://localhost:8080/"
    },
    "id": "Zn-g22VXwZ2I",
    "outputId": "8f8a1ffa-e3ab-4a57-84fa-b6848431a07e"
   },
   "outputs": [],
   "source": [
    "dados.dtypes"
   ]
  },
  {
   "cell_type": "code",
   "execution_count": null,
   "metadata": {
    "id": "K4f2P5OPwubu"
   },
   "outputs": [],
   "source": [
    "#Salvando os dados extraídos e filtrados\n",
    "dados.to_csv('dadosacoes.csv')"
   ]
  },
  {
   "cell_type": "markdown",
   "metadata": {
    "id": "1iKidUtdwuAn"
   },
   "source": [
    "### Utilizando os dados filtrados"
   ]
  },
  {
   "cell_type": "code",
   "execution_count": 1,
   "metadata": {
    "id": "2jeIbF886xpY"
   },
   "outputs": [],
   "source": [
    "#importando as bibliotecas\n",
    "from sklearn.feature_selection import SelectKBest\n",
    "from sklearn.model_selection import GridSearchCV\n",
    "from sklearn.neural_network import MLPRegressor\n",
    "from sklearn.preprocessing import MinMaxScaler\n",
    "from sklearn import datasets, linear_model\n",
    "from sklearn.metrics import mean_squared_error, r2_score\n",
    "import matplotlib.pyplot as plt\n",
    "%matplotlib inline\n",
    "import warnings\n",
    "warnings.filterwarnings('ignore')"
   ]
  },
  {
   "cell_type": "code",
   "execution_count": 4,
   "metadata": {
    "colab": {
     "base_uri": "https://localhost:8080/",
     "height": 496
    },
    "id": "9nOQTdAM6xpg",
    "outputId": "f65a884d-fac1-4a29-97d3-ca047c067441",
    "scrolled": true
   },
   "outputs": [
    {
     "data": {
      "text/html": [
       "<div>\n",
       "<style scoped>\n",
       "    .dataframe tbody tr th:only-of-type {\n",
       "        vertical-align: middle;\n",
       "    }\n",
       "\n",
       "    .dataframe tbody tr th {\n",
       "        vertical-align: top;\n",
       "    }\n",
       "\n",
       "    .dataframe thead th {\n",
       "        text-align: right;\n",
       "    }\n",
       "</style>\n",
       "<table border=\"1\" class=\"dataframe\">\n",
       "  <thead>\n",
       "    <tr style=\"text-align: right;\">\n",
       "      <th></th>\n",
       "      <th>id</th>\n",
       "      <th>data_pregao</th>\n",
       "      <th>sigla_acao</th>\n",
       "      <th>nome_acao</th>\n",
       "      <th>preco_abertura</th>\n",
       "      <th>preco_maximo</th>\n",
       "      <th>preco_minimo</th>\n",
       "      <th>preco_fechamento</th>\n",
       "      <th>qtd_negocios</th>\n",
       "      <th>volume_negocios</th>\n",
       "    </tr>\n",
       "  </thead>\n",
       "  <tbody>\n",
       "    <tr>\n",
       "      <th>0</th>\n",
       "      <td>0</td>\n",
       "      <td>2020-01-02</td>\n",
       "      <td>AALR3</td>\n",
       "      <td>ALLIAR</td>\n",
       "      <td>18.29</td>\n",
       "      <td>19.00</td>\n",
       "      <td>18.28</td>\n",
       "      <td>19.00</td>\n",
       "      <td>585800.0</td>\n",
       "      <td>1.094620e+09</td>\n",
       "    </tr>\n",
       "    <tr>\n",
       "      <th>1</th>\n",
       "      <td>1</td>\n",
       "      <td>2020-01-02</td>\n",
       "      <td>AAPL34</td>\n",
       "      <td>APPLE</td>\n",
       "      <td>120.00</td>\n",
       "      <td>121.34</td>\n",
       "      <td>120.00</td>\n",
       "      <td>121.34</td>\n",
       "      <td>12700.0</td>\n",
       "      <td>1.533380e+08</td>\n",
       "    </tr>\n",
       "    <tr>\n",
       "      <th>2</th>\n",
       "      <td>2</td>\n",
       "      <td>2020-01-02</td>\n",
       "      <td>ABCB4</td>\n",
       "      <td>ABC BRASIL</td>\n",
       "      <td>20.00</td>\n",
       "      <td>20.30</td>\n",
       "      <td>19.82</td>\n",
       "      <td>20.30</td>\n",
       "      <td>870400.0</td>\n",
       "      <td>1.745788e+09</td>\n",
       "    </tr>\n",
       "    <tr>\n",
       "      <th>3</th>\n",
       "      <td>3</td>\n",
       "      <td>2020-01-02</td>\n",
       "      <td>ABEV3</td>\n",
       "      <td>AMBEV S/A</td>\n",
       "      <td>18.86</td>\n",
       "      <td>19.25</td>\n",
       "      <td>18.78</td>\n",
       "      <td>19.20</td>\n",
       "      <td>16011300.0</td>\n",
       "      <td>3.062348e+10</td>\n",
       "    </tr>\n",
       "    <tr>\n",
       "      <th>4</th>\n",
       "      <td>4</td>\n",
       "      <td>2020-01-02</td>\n",
       "      <td>ADHM3</td>\n",
       "      <td>ADVANCED-DH</td>\n",
       "      <td>2.55</td>\n",
       "      <td>2.55</td>\n",
       "      <td>2.35</td>\n",
       "      <td>2.48</td>\n",
       "      <td>193400.0</td>\n",
       "      <td>4.719270e+07</td>\n",
       "    </tr>\n",
       "    <tr>\n",
       "      <th>...</th>\n",
       "      <td>...</td>\n",
       "      <td>...</td>\n",
       "      <td>...</td>\n",
       "      <td>...</td>\n",
       "      <td>...</td>\n",
       "      <td>...</td>\n",
       "      <td>...</td>\n",
       "      <td>...</td>\n",
       "      <td>...</td>\n",
       "      <td>...</td>\n",
       "    </tr>\n",
       "    <tr>\n",
       "      <th>122221</th>\n",
       "      <td>294499</td>\n",
       "      <td>2020-12-28</td>\n",
       "      <td>Z1TO34</td>\n",
       "      <td>ZTO EXPRESS</td>\n",
       "      <td>36.72</td>\n",
       "      <td>36.72</td>\n",
       "      <td>36.72</td>\n",
       "      <td>36.72</td>\n",
       "      <td>37.0</td>\n",
       "      <td>1.358640e+05</td>\n",
       "    </tr>\n",
       "    <tr>\n",
       "      <th>122222</th>\n",
       "      <td>294500</td>\n",
       "      <td>2020-12-29</td>\n",
       "      <td>Z1TO34</td>\n",
       "      <td>ZTO EXPRESS</td>\n",
       "      <td>36.31</td>\n",
       "      <td>36.31</td>\n",
       "      <td>36.31</td>\n",
       "      <td>36.31</td>\n",
       "      <td>100.0</td>\n",
       "      <td>3.631000e+05</td>\n",
       "    </tr>\n",
       "    <tr>\n",
       "      <th>122223</th>\n",
       "      <td>294501</td>\n",
       "      <td>2020-12-30</td>\n",
       "      <td>Z1TO34</td>\n",
       "      <td>ZTO EXPRESS</td>\n",
       "      <td>38.09</td>\n",
       "      <td>38.09</td>\n",
       "      <td>37.50</td>\n",
       "      <td>37.50</td>\n",
       "      <td>61.0</td>\n",
       "      <td>2.295170e+05</td>\n",
       "    </tr>\n",
       "    <tr>\n",
       "      <th>122224</th>\n",
       "      <td>294502</td>\n",
       "      <td>2020-12-23</td>\n",
       "      <td>Z1TS34</td>\n",
       "      <td>ZOETIS INC</td>\n",
       "      <td>209.18</td>\n",
       "      <td>209.18</td>\n",
       "      <td>209.18</td>\n",
       "      <td>209.18</td>\n",
       "      <td>50.0</td>\n",
       "      <td>1.045900e+06</td>\n",
       "    </tr>\n",
       "    <tr>\n",
       "      <th>122225</th>\n",
       "      <td>294503</td>\n",
       "      <td>2020-12-28</td>\n",
       "      <td>Z1TS34</td>\n",
       "      <td>ZOETIS INC</td>\n",
       "      <td>212.14</td>\n",
       "      <td>213.59</td>\n",
       "      <td>212.14</td>\n",
       "      <td>213.59</td>\n",
       "      <td>2.0</td>\n",
       "      <td>4.257300e+04</td>\n",
       "    </tr>\n",
       "  </tbody>\n",
       "</table>\n",
       "<p>122226 rows × 10 columns</p>\n",
       "</div>"
      ],
      "text/plain": [
       "            id data_pregao sigla_acao    nome_acao  preco_abertura  \\\n",
       "0            0  2020-01-02      AALR3       ALLIAR           18.29   \n",
       "1            1  2020-01-02     AAPL34        APPLE          120.00   \n",
       "2            2  2020-01-02      ABCB4   ABC BRASIL           20.00   \n",
       "3            3  2020-01-02      ABEV3    AMBEV S/A           18.86   \n",
       "4            4  2020-01-02      ADHM3  ADVANCED-DH            2.55   \n",
       "...        ...         ...        ...          ...             ...   \n",
       "122221  294499  2020-12-28     Z1TO34  ZTO EXPRESS           36.72   \n",
       "122222  294500  2020-12-29     Z1TO34  ZTO EXPRESS           36.31   \n",
       "122223  294501  2020-12-30     Z1TO34  ZTO EXPRESS           38.09   \n",
       "122224  294502  2020-12-23     Z1TS34   ZOETIS INC          209.18   \n",
       "122225  294503  2020-12-28     Z1TS34   ZOETIS INC          212.14   \n",
       "\n",
       "        preco_maximo  preco_minimo  preco_fechamento  qtd_negocios  \\\n",
       "0              19.00         18.28             19.00      585800.0   \n",
       "1             121.34        120.00            121.34       12700.0   \n",
       "2              20.30         19.82             20.30      870400.0   \n",
       "3              19.25         18.78             19.20    16011300.0   \n",
       "4               2.55          2.35              2.48      193400.0   \n",
       "...              ...           ...               ...           ...   \n",
       "122221         36.72         36.72             36.72          37.0   \n",
       "122222         36.31         36.31             36.31         100.0   \n",
       "122223         38.09         37.50             37.50          61.0   \n",
       "122224        209.18        209.18            209.18          50.0   \n",
       "122225        213.59        212.14            213.59           2.0   \n",
       "\n",
       "        volume_negocios  \n",
       "0          1.094620e+09  \n",
       "1          1.533380e+08  \n",
       "2          1.745788e+09  \n",
       "3          3.062348e+10  \n",
       "4          4.719270e+07  \n",
       "...                 ...  \n",
       "122221     1.358640e+05  \n",
       "122222     3.631000e+05  \n",
       "122223     2.295170e+05  \n",
       "122224     1.045900e+06  \n",
       "122225     4.257300e+04  \n",
       "\n",
       "[122226 rows x 10 columns]"
      ]
     },
     "execution_count": 4,
     "metadata": {},
     "output_type": "execute_result"
    }
   ],
   "source": [
    "#lendo o csv com os arquivos das ações\n",
    "\n",
    "df = pd.read_csv(\"dadosacoes.csv\")\n",
    "df"
   ]
  },
  {
   "cell_type": "markdown",
   "metadata": {},
   "source": [
    "## Análise exploratória e Pré-Processamento dos dados"
   ]
  },
  {
   "cell_type": "code",
   "execution_count": 5,
   "metadata": {},
   "outputs": [],
   "source": [
    "#Filtrando ações do Itau\n",
    "df_itau = df[df['sigla_acao'] == 'ITUB4']\n",
    "df_itau"
   ]
  },
  {
   "cell_type": "code",
   "execution_count": 11,
   "metadata": {},
   "outputs": [
    {
     "data": {
      "text/plain": [
       "Text(0.5, 0, 'data_pregao')"
      ]
     },
     "execution_count": 11,
     "metadata": {},
     "output_type": "execute_result"
    },
    {
     "data": {
      "image/png": "[encoded data removed]",
      "text/plain": [
       "<Figure size 1440x720 with 1 Axes>"
      ]
     },
     "metadata": {
      "needs_background": "light"
     },
     "output_type": "display_data"
    }
   ],
   "source": [
    "plt.figure(figsize=(20, 10))\n",
    "plt.title('Preço de fechamento')\n",
    "plt.plot(df_itau['preco_fechamento'])\n",
    "plt.xlabel('data_pregao')"
   ]
  },
  {
   "cell_type": "code",
   "execution_count": null,
   "metadata": {},
   "outputs": [],
   "source": [
    "#Verificando o tipo das variáveis\n",
    "df_itau.dtypes"
   ]
  },
  {
   "cell_type": "code",
   "execution_count": 6,
   "metadata": {},
   "outputs": [],
   "source": [
    "#Mudando o tipo data\n",
    "df_itau['data_pregao'] = pd.to_datetime(df_itau['data_pregao'], format='%Y-%m-%d')"
   ]
  },
  {
   "cell_type": "code",
   "execution_count": null,
   "metadata": {},
   "outputs": [],
   "source": [
    "df_itau.dtypes"
   ]
  },
  {
   "cell_type": "code",
   "execution_count": 7,
   "metadata": {},
   "outputs": [],
   "source": [
    "#Criando campos de médias móveis\n",
    "df_itau['mm5d'] = df_itau['preco_fechamento'].rolling(5).mean()\n",
    "df_itau['mm21d'] = df_itau['preco_fechamento'].rolling(21).mean()"
   ]
  },
  {
   "cell_type": "code",
   "execution_count": null,
   "metadata": {},
   "outputs": [],
   "source": [
    "df_itau.head(10)"
   ]
  },
  {
   "cell_type": "code",
   "execution_count": 8,
   "metadata": {},
   "outputs": [
    {
     "data": {
      "text/html": [
       "<div>\n",
       "<style scoped>\n",
       "    .dataframe tbody tr th:only-of-type {\n",
       "        vertical-align: middle;\n",
       "    }\n",
       "\n",
       "    .dataframe tbody tr th {\n",
       "        vertical-align: top;\n",
       "    }\n",
       "\n",
       "    .dataframe thead th {\n",
       "        text-align: right;\n",
       "    }\n",
       "</style>\n",
       "<table border=\"1\" class=\"dataframe\">\n",
       "  <thead>\n",
       "    <tr style=\"text-align: right;\">\n",
       "      <th></th>\n",
       "      <th>id</th>\n",
       "      <th>data_pregao</th>\n",
       "      <th>sigla_acao</th>\n",
       "      <th>nome_acao</th>\n",
       "      <th>preco_abertura</th>\n",
       "      <th>preco_maximo</th>\n",
       "      <th>preco_minimo</th>\n",
       "      <th>preco_fechamento</th>\n",
       "      <th>qtd_negocios</th>\n",
       "      <th>volume_negocios</th>\n",
       "      <th>mm5d</th>\n",
       "      <th>mm21d</th>\n",
       "    </tr>\n",
       "  </thead>\n",
       "  <tbody>\n",
       "    <tr>\n",
       "      <th>202</th>\n",
       "      <td>202</td>\n",
       "      <td>2020-01-02</td>\n",
       "      <td>ITUB4</td>\n",
       "      <td>ITAUUNIBANCO</td>\n",
       "      <td>37.28</td>\n",
       "      <td>38.03</td>\n",
       "      <td>36.99</td>\n",
       "      <td>37.63</td>\n",
       "      <td>20666100.0</td>\n",
       "      <td>7.812151e+10</td>\n",
       "      <td>NaN</td>\n",
       "      <td>NaN</td>\n",
       "    </tr>\n",
       "    <tr>\n",
       "      <th>844</th>\n",
       "      <td>2252</td>\n",
       "      <td>2020-01-03</td>\n",
       "      <td>ITUB4</td>\n",
       "      <td>ITAUUNIBANCO</td>\n",
       "      <td>37.50</td>\n",
       "      <td>38.24</td>\n",
       "      <td>37.45</td>\n",
       "      <td>37.07</td>\n",
       "      <td>24891400.0</td>\n",
       "      <td>9.400384e+10</td>\n",
       "      <td>NaN</td>\n",
       "      <td>NaN</td>\n",
       "    </tr>\n",
       "    <tr>\n",
       "      <th>845</th>\n",
       "      <td>2253</td>\n",
       "      <td>2020-01-06</td>\n",
       "      <td>ITUB4</td>\n",
       "      <td>ITAUUNIBANCO</td>\n",
       "      <td>37.55</td>\n",
       "      <td>37.58</td>\n",
       "      <td>36.91</td>\n",
       "      <td>36.21</td>\n",
       "      <td>22294700.0</td>\n",
       "      <td>8.294725e+10</td>\n",
       "      <td>NaN</td>\n",
       "      <td>NaN</td>\n",
       "    </tr>\n",
       "    <tr>\n",
       "      <th>2273</th>\n",
       "      <td>5696</td>\n",
       "      <td>2020-01-07</td>\n",
       "      <td>ITUB4</td>\n",
       "      <td>ITAUUNIBANCO</td>\n",
       "      <td>37.07</td>\n",
       "      <td>37.24</td>\n",
       "      <td>36.21</td>\n",
       "      <td>35.62</td>\n",
       "      <td>20000900.0</td>\n",
       "      <td>7.294927e+10</td>\n",
       "      <td>NaN</td>\n",
       "      <td>NaN</td>\n",
       "    </tr>\n",
       "    <tr>\n",
       "      <th>2274</th>\n",
       "      <td>5697</td>\n",
       "      <td>2020-01-08</td>\n",
       "      <td>ITUB4</td>\n",
       "      <td>ITAUUNIBANCO</td>\n",
       "      <td>36.45</td>\n",
       "      <td>36.81</td>\n",
       "      <td>35.62</td>\n",
       "      <td>34.91</td>\n",
       "      <td>25980900.0</td>\n",
       "      <td>9.345243e+10</td>\n",
       "      <td>36.912</td>\n",
       "      <td>NaN</td>\n",
       "    </tr>\n",
       "    <tr>\n",
       "      <th>2275</th>\n",
       "      <td>5698</td>\n",
       "      <td>2020-01-09</td>\n",
       "      <td>ITUB4</td>\n",
       "      <td>ITAUUNIBANCO</td>\n",
       "      <td>35.79</td>\n",
       "      <td>35.93</td>\n",
       "      <td>34.52</td>\n",
       "      <td>34.60</td>\n",
       "      <td>48423800.0</td>\n",
       "      <td>1.694589e+11</td>\n",
       "      <td>36.288</td>\n",
       "      <td>NaN</td>\n",
       "    </tr>\n",
       "    <tr>\n",
       "      <th>2276</th>\n",
       "      <td>5699</td>\n",
       "      <td>2020-01-10</td>\n",
       "      <td>ITUB4</td>\n",
       "      <td>ITAUUNIBANCO</td>\n",
       "      <td>35.08</td>\n",
       "      <td>35.45</td>\n",
       "      <td>34.57</td>\n",
       "      <td>35.06</td>\n",
       "      <td>25521600.0</td>\n",
       "      <td>8.900229e+10</td>\n",
       "      <td>35.682</td>\n",
       "      <td>NaN</td>\n",
       "    </tr>\n",
       "    <tr>\n",
       "      <th>4821</th>\n",
       "      <td>12419</td>\n",
       "      <td>2020-01-13</td>\n",
       "      <td>ITUB4</td>\n",
       "      <td>ITAUUNIBANCO</td>\n",
       "      <td>35.02</td>\n",
       "      <td>35.40</td>\n",
       "      <td>34.74</td>\n",
       "      <td>35.06</td>\n",
       "      <td>29200700.0</td>\n",
       "      <td>1.025651e+11</td>\n",
       "      <td>35.280</td>\n",
       "      <td>NaN</td>\n",
       "    </tr>\n",
       "    <tr>\n",
       "      <th>4822</th>\n",
       "      <td>12420</td>\n",
       "      <td>2020-01-14</td>\n",
       "      <td>ITUB4</td>\n",
       "      <td>ITAUUNIBANCO</td>\n",
       "      <td>34.92</td>\n",
       "      <td>35.06</td>\n",
       "      <td>34.63</td>\n",
       "      <td>34.63</td>\n",
       "      <td>18433300.0</td>\n",
       "      <td>6.424604e+10</td>\n",
       "      <td>35.050</td>\n",
       "      <td>NaN</td>\n",
       "    </tr>\n",
       "    <tr>\n",
       "      <th>4823</th>\n",
       "      <td>12421</td>\n",
       "      <td>2020-01-15</td>\n",
       "      <td>ITUB4</td>\n",
       "      <td>ITAUUNIBANCO</td>\n",
       "      <td>34.89</td>\n",
       "      <td>34.94</td>\n",
       "      <td>34.40</td>\n",
       "      <td>34.70</td>\n",
       "      <td>32757500.0</td>\n",
       "      <td>1.134815e+11</td>\n",
       "      <td>34.852</td>\n",
       "      <td>NaN</td>\n",
       "    </tr>\n",
       "  </tbody>\n",
       "</table>\n",
       "</div>"
      ],
      "text/plain": [
       "         id data_pregao sigla_acao     nome_acao  preco_abertura  \\\n",
       "202     202  2020-01-02      ITUB4  ITAUUNIBANCO           37.28   \n",
       "844    2252  2020-01-03      ITUB4  ITAUUNIBANCO           37.50   \n",
       "845    2253  2020-01-06      ITUB4  ITAUUNIBANCO           37.55   \n",
       "2273   5696  2020-01-07      ITUB4  ITAUUNIBANCO           37.07   \n",
       "2274   5697  2020-01-08      ITUB4  ITAUUNIBANCO           36.45   \n",
       "2275   5698  2020-01-09      ITUB4  ITAUUNIBANCO           35.79   \n",
       "2276   5699  2020-01-10      ITUB4  ITAUUNIBANCO           35.08   \n",
       "4821  12419  2020-01-13      ITUB4  ITAUUNIBANCO           35.02   \n",
       "4822  12420  2020-01-14      ITUB4  ITAUUNIBANCO           34.92   \n",
       "4823  12421  2020-01-15      ITUB4  ITAUUNIBANCO           34.89   \n",
       "\n",
       "      preco_maximo  preco_minimo  preco_fechamento  qtd_negocios  \\\n",
       "202          38.03         36.99             37.63    20666100.0   \n",
       "844          38.24         37.45             37.07    24891400.0   \n",
       "845          37.58         36.91             36.21    22294700.0   \n",
       "2273         37.24         36.21             35.62    20000900.0   \n",
       "2274         36.81         35.62             34.91    25980900.0   \n",
       "2275         35.93         34.52             34.60    48423800.0   \n",
       "2276         35.45         34.57             35.06    25521600.0   \n",
       "4821         35.40         34.74             35.06    29200700.0   \n",
       "4822         35.06         34.63             34.63    18433300.0   \n",
       "4823         34.94         34.40             34.70    32757500.0   \n",
       "\n",
       "      volume_negocios    mm5d  mm21d  \n",
       "202      7.812151e+10     NaN    NaN  \n",
       "844      9.400384e+10     NaN    NaN  \n",
       "845      8.294725e+10     NaN    NaN  \n",
       "2273     7.294927e+10     NaN    NaN  \n",
       "2274     9.345243e+10  36.912    NaN  \n",
       "2275     1.694589e+11  36.288    NaN  \n",
       "2276     8.900229e+10  35.682    NaN  \n",
       "4821     1.025651e+11  35.280    NaN  \n",
       "4822     6.424604e+10  35.050    NaN  \n",
       "4823     1.134815e+11  34.852    NaN  "
      ]
     },
     "execution_count": 8,
     "metadata": {},
     "output_type": "execute_result"
    }
   ],
   "source": [
    "#Empurrando os valores das ações para frente\n",
    "df_itau['preco_fechamento'] = df_itau['preco_fechamento'].shift(-1)\n",
    "df_itau.head(10)"
   ]
  },
  {
   "cell_type": "code",
   "execution_count": 9,
   "metadata": {},
   "outputs": [
    {
     "data": {
      "text/html": [
       "<div>\n",
       "<style scoped>\n",
       "    .dataframe tbody tr th:only-of-type {\n",
       "        vertical-align: middle;\n",
       "    }\n",
       "\n",
       "    .dataframe tbody tr th {\n",
       "        vertical-align: top;\n",
       "    }\n",
       "\n",
       "    .dataframe thead th {\n",
       "        text-align: right;\n",
       "    }\n",
       "</style>\n",
       "<table border=\"1\" class=\"dataframe\">\n",
       "  <thead>\n",
       "    <tr style=\"text-align: right;\">\n",
       "      <th></th>\n",
       "      <th>id</th>\n",
       "      <th>data_pregao</th>\n",
       "      <th>sigla_acao</th>\n",
       "      <th>nome_acao</th>\n",
       "      <th>preco_abertura</th>\n",
       "      <th>preco_maximo</th>\n",
       "      <th>preco_minimo</th>\n",
       "      <th>preco_fechamento</th>\n",
       "      <th>qtd_negocios</th>\n",
       "      <th>volume_negocios</th>\n",
       "      <th>mm5d</th>\n",
       "      <th>mm21d</th>\n",
       "    </tr>\n",
       "  </thead>\n",
       "  <tbody>\n",
       "    <tr>\n",
       "      <th>8321</th>\n",
       "      <td>21676</td>\n",
       "      <td>2020-01-30</td>\n",
       "      <td>ITUB4</td>\n",
       "      <td>ITAUUNIBANCO</td>\n",
       "      <td>32.65</td>\n",
       "      <td>33.45</td>\n",
       "      <td>32.58</td>\n",
       "      <td>32.82</td>\n",
       "      <td>41789800.0</td>\n",
       "      <td>1.374939e+11</td>\n",
       "      <td>33.530</td>\n",
       "      <td>34.859048</td>\n",
       "    </tr>\n",
       "    <tr>\n",
       "      <th>8322</th>\n",
       "      <td>21677</td>\n",
       "      <td>2020-01-31</td>\n",
       "      <td>ITUB4</td>\n",
       "      <td>ITAUUNIBANCO</td>\n",
       "      <td>32.99</td>\n",
       "      <td>33.39</td>\n",
       "      <td>32.54</td>\n",
       "      <td>32.90</td>\n",
       "      <td>25459800.0</td>\n",
       "      <td>8.358342e+10</td>\n",
       "      <td>33.246</td>\n",
       "      <td>34.610952</td>\n",
       "    </tr>\n",
       "    <tr>\n",
       "      <th>8323</th>\n",
       "      <td>21685</td>\n",
       "      <td>2020-02-03</td>\n",
       "      <td>ITUB4</td>\n",
       "      <td>ITAUUNIBANCO</td>\n",
       "      <td>33.00</td>\n",
       "      <td>33.31</td>\n",
       "      <td>32.79</td>\n",
       "      <td>33.16</td>\n",
       "      <td>17586000.0</td>\n",
       "      <td>5.817445e+10</td>\n",
       "      <td>33.126</td>\n",
       "      <td>34.385714</td>\n",
       "    </tr>\n",
       "    <tr>\n",
       "      <th>8324</th>\n",
       "      <td>21686</td>\n",
       "      <td>2020-02-04</td>\n",
       "      <td>ITUB4</td>\n",
       "      <td>ITAUUNIBANCO</td>\n",
       "      <td>33.36</td>\n",
       "      <td>33.46</td>\n",
       "      <td>32.90</td>\n",
       "      <td>33.36</td>\n",
       "      <td>15730300.0</td>\n",
       "      <td>5.220127e+10</td>\n",
       "      <td>33.060</td>\n",
       "      <td>34.199524</td>\n",
       "    </tr>\n",
       "    <tr>\n",
       "      <th>8325</th>\n",
       "      <td>21687</td>\n",
       "      <td>2020-02-05</td>\n",
       "      <td>ITUB4</td>\n",
       "      <td>ITAUUNIBANCO</td>\n",
       "      <td>33.71</td>\n",
       "      <td>34.12</td>\n",
       "      <td>33.36</td>\n",
       "      <td>33.28</td>\n",
       "      <td>34791900.0</td>\n",
       "      <td>1.169225e+11</td>\n",
       "      <td>33.138</td>\n",
       "      <td>34.063810</td>\n",
       "    </tr>\n",
       "    <tr>\n",
       "      <th>...</th>\n",
       "      <td>...</td>\n",
       "      <td>...</td>\n",
       "      <td>...</td>\n",
       "      <td>...</td>\n",
       "      <td>...</td>\n",
       "      <td>...</td>\n",
       "      <td>...</td>\n",
       "      <td>...</td>\n",
       "      <td>...</td>\n",
       "      <td>...</td>\n",
       "      <td>...</td>\n",
       "      <td>...</td>\n",
       "    </tr>\n",
       "    <tr>\n",
       "      <th>120313</th>\n",
       "      <td>290075</td>\n",
       "      <td>2020-12-21</td>\n",
       "      <td>ITUB4</td>\n",
       "      <td>ITAUUNIBANCO</td>\n",
       "      <td>31.05</td>\n",
       "      <td>31.50</td>\n",
       "      <td>30.91</td>\n",
       "      <td>31.25</td>\n",
       "      <td>26014600.0</td>\n",
       "      <td>8.122629e+10</td>\n",
       "      <td>31.476</td>\n",
       "      <td>30.315714</td>\n",
       "    </tr>\n",
       "    <tr>\n",
       "      <th>120314</th>\n",
       "      <td>290076</td>\n",
       "      <td>2020-12-22</td>\n",
       "      <td>ITUB4</td>\n",
       "      <td>ITAUUNIBANCO</td>\n",
       "      <td>31.17</td>\n",
       "      <td>31.65</td>\n",
       "      <td>31.15</td>\n",
       "      <td>31.94</td>\n",
       "      <td>19659000.0</td>\n",
       "      <td>6.169132e+10</td>\n",
       "      <td>31.494</td>\n",
       "      <td>30.427619</td>\n",
       "    </tr>\n",
       "    <tr>\n",
       "      <th>120315</th>\n",
       "      <td>290077</td>\n",
       "      <td>2020-12-23</td>\n",
       "      <td>ITUB4</td>\n",
       "      <td>ITAUUNIBANCO</td>\n",
       "      <td>31.32</td>\n",
       "      <td>32.05</td>\n",
       "      <td>31.27</td>\n",
       "      <td>32.17</td>\n",
       "      <td>19959200.0</td>\n",
       "      <td>6.356557e+10</td>\n",
       "      <td>31.532</td>\n",
       "      <td>30.533810</td>\n",
       "    </tr>\n",
       "    <tr>\n",
       "      <th>120316</th>\n",
       "      <td>290078</td>\n",
       "      <td>2020-12-28</td>\n",
       "      <td>ITUB4</td>\n",
       "      <td>ITAUUNIBANCO</td>\n",
       "      <td>32.22</td>\n",
       "      <td>32.43</td>\n",
       "      <td>32.01</td>\n",
       "      <td>32.10</td>\n",
       "      <td>15444600.0</td>\n",
       "      <td>4.973340e+10</td>\n",
       "      <td>31.624</td>\n",
       "      <td>30.667619</td>\n",
       "    </tr>\n",
       "    <tr>\n",
       "      <th>120317</th>\n",
       "      <td>290079</td>\n",
       "      <td>2020-12-29</td>\n",
       "      <td>ITUB4</td>\n",
       "      <td>ITAUUNIBANCO</td>\n",
       "      <td>32.27</td>\n",
       "      <td>32.39</td>\n",
       "      <td>31.93</td>\n",
       "      <td>31.63</td>\n",
       "      <td>16384200.0</td>\n",
       "      <td>5.254648e+10</td>\n",
       "      <td>31.712</td>\n",
       "      <td>30.827619</td>\n",
       "    </tr>\n",
       "  </tbody>\n",
       "</table>\n",
       "<p>228 rows × 12 columns</p>\n",
       "</div>"
      ],
      "text/plain": [
       "            id data_pregao sigla_acao     nome_acao  preco_abertura  \\\n",
       "8321     21676  2020-01-30      ITUB4  ITAUUNIBANCO           32.65   \n",
       "8322     21677  2020-01-31      ITUB4  ITAUUNIBANCO           32.99   \n",
       "8323     21685  2020-02-03      ITUB4  ITAUUNIBANCO           33.00   \n",
       "8324     21686  2020-02-04      ITUB4  ITAUUNIBANCO           33.36   \n",
       "8325     21687  2020-02-05      ITUB4  ITAUUNIBANCO           33.71   \n",
       "...        ...         ...        ...           ...             ...   \n",
       "120313  290075  2020-12-21      ITUB4  ITAUUNIBANCO           31.05   \n",
       "120314  290076  2020-12-22      ITUB4  ITAUUNIBANCO           31.17   \n",
       "120315  290077  2020-12-23      ITUB4  ITAUUNIBANCO           31.32   \n",
       "120316  290078  2020-12-28      ITUB4  ITAUUNIBANCO           32.22   \n",
       "120317  290079  2020-12-29      ITUB4  ITAUUNIBANCO           32.27   \n",
       "\n",
       "        preco_maximo  preco_minimo  preco_fechamento  qtd_negocios  \\\n",
       "8321           33.45         32.58             32.82    41789800.0   \n",
       "8322           33.39         32.54             32.90    25459800.0   \n",
       "8323           33.31         32.79             33.16    17586000.0   \n",
       "8324           33.46         32.90             33.36    15730300.0   \n",
       "8325           34.12         33.36             33.28    34791900.0   \n",
       "...              ...           ...               ...           ...   \n",
       "120313         31.50         30.91             31.25    26014600.0   \n",
       "120314         31.65         31.15             31.94    19659000.0   \n",
       "120315         32.05         31.27             32.17    19959200.0   \n",
       "120316         32.43         32.01             32.10    15444600.0   \n",
       "120317         32.39         31.93             31.63    16384200.0   \n",
       "\n",
       "        volume_negocios    mm5d      mm21d  \n",
       "8321       1.374939e+11  33.530  34.859048  \n",
       "8322       8.358342e+10  33.246  34.610952  \n",
       "8323       5.817445e+10  33.126  34.385714  \n",
       "8324       5.220127e+10  33.060  34.199524  \n",
       "8325       1.169225e+11  33.138  34.063810  \n",
       "...                 ...     ...        ...  \n",
       "120313     8.122629e+10  31.476  30.315714  \n",
       "120314     6.169132e+10  31.494  30.427619  \n",
       "120315     6.356557e+10  31.532  30.533810  \n",
       "120316     4.973340e+10  31.624  30.667619  \n",
       "120317     5.254648e+10  31.712  30.827619  \n",
       "\n",
       "[228 rows x 12 columns]"
      ]
     },
     "execution_count": 9,
     "metadata": {},
     "output_type": "execute_result"
    }
   ],
   "source": [
    "#retirando os dados nulos\n",
    "df_itau.dropna(inplace=True)\n",
    "df_itau"
   ]
  },
  {
   "cell_type": "code",
   "execution_count": 10,
   "metadata": {
    "colab": {
     "base_uri": "https://localhost:8080/",
     "height": 35
    },
    "id": "mXmT44eH6xpu",
    "outputId": "e7be0811-6ec3-4235-a0ec-cf0ddf78a937"
   },
   "outputs": [
    {
     "data": {
      "text/plain": [
       "'linhas treino= 0:160 linhas teste= 160:218 linhas validação= 218:228'"
      ]
     },
     "execution_count": 10,
     "metadata": {},
     "output_type": "execute_result"
    }
   ],
   "source": [
    "#verificando quantidade de linhas\n",
    "qtd_linhas = len(df_itau)\n",
    "\n",
    "qtd_linhas_treino= round(.70 * qtd_linhas)\n",
    "qtd_linhas_teste= qtd_linhas - qtd_linhas_treino -9\n",
    "qtd_linhas_validacao = qtd_linhas -10\n",
    "\n",
    "info = (\n",
    "    f\"linhas treino= 0:{qtd_linhas_treino}\"\n",
    "    f\" linhas teste= {qtd_linhas_treino}:{qtd_linhas_treino + qtd_linhas_teste -1}\"\n",
    "    f\" linhas validação= {qtd_linhas_validacao}:{qtd_linhas}\"\n",
    ")\n",
    "\n",
    "info\n"
   ]
  },
  {
   "cell_type": "code",
   "execution_count": 11,
   "metadata": {
    "colab": {
     "base_uri": "https://localhost:8080/",
     "height": 345
    },
    "id": "srhOrExk6xpv",
    "outputId": "0c5ace12-56ba-46e2-e86e-64328af466af"
   },
   "outputs": [],
   "source": [
    "#separando as features e labels\n",
    "features = df_itau.drop(['sigla_acao', 'nome_acao', 'data_pregao', 'preco_fechamento'], 1)\n",
    "labels = df_itau['preco_fechamento']"
   ]
  },
  {
   "cell_type": "code",
   "execution_count": 12,
   "metadata": {
    "colab": {
     "base_uri": "https://localhost:8080/"
    },
    "id": "cqaLlrZ06xpw",
    "outputId": "a727bd47-e340-4126-ce91-4fda3e2aa843"
   },
   "outputs": [
    {
     "name": "stdout",
     "output_type": "stream",
     "text": [
      "\n",
      "Melhores features:\n",
      "{'mm21d': 16.712840541134085, 'mm5d': 13.71652820445121, 'volume_negocios': 9.569212886255846, 'qtd_negocios': 1.5415091506668273}\n"
     ]
    }
   ],
   "source": [
    "#Escolhendo as melhores features com Kbest\n",
    "\n",
    "features_list = ('preco_abertura', 'qtd_negocios', 'volume_negocios', 'mm5d', 'mm21d')\n",
    "\n",
    "k_best_features = SelectKBest(k='all')\n",
    "k_best_features.fit_transform(features, labels)\n",
    "k_best_features_scores = k_best_features.scores_\n",
    "raw_pairs = zip(features_list[1:], k_best_features_scores)\n",
    "ordered_pairs = list(reversed(sorted(raw_pairs, key=lambda x: x[1])))\n",
    "\n",
    "k_best_features_final = dict(ordered_pairs[:15])\n",
    "best_features = k_best_features_final.keys()\n",
    "print ('')\n",
    "print (\"Melhores features:\")\n",
    "print (k_best_features_final)"
   ]
  },
  {
   "cell_type": "code",
   "execution_count": 13,
   "metadata": {
    "id": "JHgcwjok6xpw"
   },
   "outputs": [],
   "source": [
    "#separando as features escolhidas\n",
    "features = df_itau.drop(['id', 'sigla_acao', 'nome_acao', 'data_pregao', 'preco_fechamento', 'preco_abertura', 'qtd_negocios'], 1)"
   ]
  },
  {
   "cell_type": "code",
   "execution_count": 14,
   "metadata": {
    "id": "GxVMwPg56xpy"
   },
   "outputs": [
    {
     "name": "stdout",
     "output_type": "stream",
     "text": [
      "Features:  (228, 5)\n",
      "[[0.855      0.85230352 0.35767217 0.92422341 1.        ]\n",
      " [0.85071429 0.8495935  0.18297206 0.9019454  0.98044515]\n",
      " [0.845      0.86653117 0.10063282 0.89253216 0.96269189]\n",
      " ...\n",
      " [0.755      0.76355014 0.11810304 0.76749294 0.65908494]\n",
      " [0.78214286 0.81368564 0.0732791  0.77470976 0.6696318 ]\n",
      " [0.77928571 0.80826558 0.08239503 0.7816128  0.68224299]]\n"
     ]
    }
   ],
   "source": [
    "# Normalizando os dados de entrada(features)\n",
    "\n",
    "# Gerando o novo padrão\n",
    "scaler = MinMaxScaler().fit(features)\n",
    "features_scale = scaler.transform(features)\n",
    "\n",
    "print('Features: ',features_scale.shape)\n",
    "print(features_scale) #Normalizando os dados de entrada(features)\n",
    "\n"
   ]
  },
  {
   "cell_type": "code",
   "execution_count": 15,
   "metadata": {},
   "outputs": [
    {
     "name": "stdout",
     "output_type": "stream",
     "text": [
      "160 160\n",
      "58 58\n"
     ]
    }
   ],
   "source": [
    "#Separa os dados de treino teste e validação\n",
    "X_train = features_scale[:qtd_linhas_treino]\n",
    "X_test = features_scale[qtd_linhas_treino:qtd_linhas_treino + qtd_linhas_teste -1]\n",
    "\n",
    "y_train = labels[:qtd_linhas_treino]\n",
    "y_test = labels[qtd_linhas_treino:qtd_linhas_treino + qtd_linhas_teste -1]\n",
    "\n",
    "print( len(X_train), len(y_train))\n",
    "\n",
    "print( len(X_test), len(y_test))"
   ]
  },
  {
   "cell_type": "markdown",
   "metadata": {},
   "source": [
    "# Avaliação 3 - Avaliação do Projeto de Ensino (Paper): Avaliação dos métodos e predição"
   ]
  },
  {
   "cell_type": "markdown",
   "metadata": {},
   "source": [
    "## Modelo de Regressão Linear"
   ]
  },
  {
   "cell_type": "code",
   "execution_count": 16,
   "metadata": {
    "colab": {
     "base_uri": "https://localhost:8080/",
     "height": 35
    },
    "id": "9fSu64kE6xpz",
    "outputId": "00673ea1-a059-49a6-d8cc-83411618760a"
   },
   "outputs": [
    {
     "data": {
      "text/plain": [
       "'Coeficiente de determinação:95.08'"
      ]
     },
     "execution_count": 16,
     "metadata": {},
     "output_type": "execute_result"
    }
   ],
   "source": [
    "#treinamento usando regressão linear\n",
    "lr = linear_model.LinearRegression()\n",
    "lr.fit(X_train, y_train)\n",
    "pred= lr.predict(X_test)\n",
    "cd =r2_score(y_test, pred)\n",
    "\n",
    "f'Coeficiente de determinação:{cd * 100:.2f}'"
   ]
  },
  {
   "cell_type": "markdown",
   "metadata": {},
   "source": [
    "## Modelo de Rede Neural"
   ]
  },
  {
   "cell_type": "code",
   "execution_count": 17,
   "metadata": {
    "colab": {
     "base_uri": "https://localhost:8080/",
     "height": 35
    },
    "id": "abkV8-ZV6xp0",
    "outputId": "3438d0ce-760d-416c-e22a-52cd10e6bdcb"
   },
   "outputs": [
    {
     "data": {
      "text/plain": [
       "'Coeficiente de determinação:91.74'"
      ]
     },
     "execution_count": 17,
     "metadata": {},
     "output_type": "execute_result"
    }
   ],
   "source": [
    "#rede neural\n",
    "rn = MLPRegressor(max_iter=2000)\n",
    "\n",
    "rn.fit(X_train, y_train)\n",
    "pred= rn.predict(X_test)\n",
    "\n",
    "cd = rn.score(X_test, y_test)\n",
    "\n",
    "\n",
    "f'Coeficiente de determinação:{cd * 100:.2f}'"
   ]
  },
  {
   "cell_type": "markdown",
   "metadata": {},
   "source": [
    "## Modelo de Rede Neural com Hyper Parameters"
   ]
  },
  {
   "cell_type": "code",
   "execution_count": 18,
   "metadata": {},
   "outputs": [
    {
     "data": {
      "text/plain": [
       "'Coeficiente de determinação:95.06'"
      ]
     },
     "execution_count": 18,
     "metadata": {},
     "output_type": "execute_result"
    }
   ],
   "source": [
    "#rede neural com ajuste hyper parameters\n",
    "\n",
    "rn = MLPRegressor()\n",
    "\n",
    "parameter_space = {\n",
    "        'hidden_layer_sizes': [(i,) for i in list(range(1, 21))],\n",
    "        'activation': ['tanh', 'relu'],\n",
    "        'solver': ['sgd', 'adam', 'lbfgs'], \n",
    "        'alpha': [0.0001, 0.05],\n",
    "        'learning_rate': ['constant', 'adaptive'],\n",
    "    }\n",
    "\n",
    "search = GridSearchCV(rn, parameter_space, n_jobs=-1, cv=5)\n",
    "\n",
    "\n",
    "search.fit(X_train,y_train)\n",
    "clf = search.best_estimator_\n",
    "pred= search.predict(X_test)\n",
    "\n",
    "cd = search.score(X_test, y_test)\n",
    "\n",
    "f'Coeficiente de determinação:{cd * 100:.2f}'"
   ]
  },
  {
   "cell_type": "code",
   "execution_count": null,
   "metadata": {
    "colab": {
     "base_uri": "https://localhost:8080/"
    },
    "id": "QuHJI1Dv6xp1",
    "outputId": "4c54bf78-d5bd-46ee-9711-fef1535bd980"
   },
   "outputs": [],
   "source": [
    "#executando a previsão\n",
    "\n",
    "previsao = features_scale[qtd_linhas_teste:qtd_linhas]\n",
    "\n",
    "data_pregao_full=df_itau['data_pregao']\n",
    "data_pregao=data_pregao_full[qtd_linhas_teste:qtd_linhas]\n",
    "\n",
    "res_full=df_itau['preco_fechamento']\n",
    "res=res_full[qtd_linhas_teste:qtd_linhas]\n",
    "\n",
    "pred=lr.predict(previsao)\n",
    "\n",
    "df1=pd.DataFrame({'data_pregao':data_pregao, 'real':res, 'previsao':pred})\n",
    "df1['real'] = df1['real'].shift(+1)\n",
    "\n",
    "df1.set_index('data_pregao', inplace=True)\n",
    "\n",
    "print(df1)\n"
   ]
  },
  {
   "cell_type": "code",
   "execution_count": null,
   "metadata": {
    "id": "sZV8_0oW6xp3"
   },
   "outputs": [],
   "source": [
    "#Gráfico\n",
    "plt.figure(figsize=(16,8))\n",
    "plt.title('Preço das Ações')\n",
    "plt.plot(df1['real'], label=\"real\", color='blue', marker='o')\n",
    "plt.plot(df1['previsao'], label='previsao', color='red', marker='o')\n",
    "plt.xlabel('Data pregão')\n",
    "plt.ylabel('Preco de Fechamento')\n",
    "leg = plt.legend()\n"
   ]
  },
  {
   "cell_type": "markdown",
   "metadata": {},
   "source": [
    "# Conclusão"
   ]
  },
  {
   "cell_type": "markdown",
   "metadata": {},
   "source": [
    "Todos os modelos se mostraram eficientes para prever as nossas ações. Porém usando a regressão linear alcançamos uma acurácia de 95.08%. Já o modelo de rede neural com hiper parâmetros obteve também uma acurácia excelente de 95.06%. Dessa forma escolhemos o modelo de regressão linear para fazer nossas previsões."
   ]
  }
 ],
 "metadata": {
  "colab": {
   "collapsed_sections": [],
   "name": "Previsão_preço_ações.ipynb",
   "provenance": []
  },
  "kernelspec": {
   "display_name": "Python 3",
   "language": "python",
   "name": "python3"
  },
  "language_info": {
   "codemirror_mode": {
    "name": "ipython",
    "version": 3
   },
   "file_extension": ".py",
   "mimetype": "text/x-python",
   "name": "python",
   "nbconvert_exporter": "python",
   "pygments_lexer": "ipython3",
   "version": "3.8.5"
  }
 },
 "nbformat": 4,
 "nbformat_minor": 1
}
